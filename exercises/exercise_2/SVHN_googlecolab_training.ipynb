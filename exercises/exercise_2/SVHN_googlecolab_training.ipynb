{
 "cells": [
  {
   "cell_type": "code",
   "execution_count": 72,
   "metadata": {
    "id": "YYHIpahEEMWx"
   },
   "outputs": [],
   "source": [
    "import pandas as pd, numpy as np\n",
    "import pathlib, cv2\n",
    "\n",
    "from torch.utils.data import Dataset\n",
    "from torchvision import transforms\n",
    "import albumentations as A\n",
    "\n",
    "class SVHNDataset(Dataset):\n",
    "    def __init__(self, img_paths,\n",
    "                 transform=None):\n",
    "        self.img_paths = img_paths\n",
    "        self.transform = transform\n",
    "        self.classes = np.arange(10).astype(str) # There are 10 classes, 0-9\n",
    "        self.size = len(self.img_paths)\n",
    "\n",
    "    def __len__(self):\n",
    "        return len(self.img_paths)\n",
    "\n",
    "    def __getitem__(self, idx):\n",
    "        img_path = str(self.img_paths[idx])\n",
    "\n",
    "        image = cv2.imread(img_path)\n",
    "        # albumentations lib uses RGB channel ordering\n",
    "        image = cv2.cvtColor(image, cv2.COLOR_BGR2RGB)\n",
    "\n",
    "        # We want the FloatTensor for the one-hot vector\n",
    "        label = torch.zeros(len(self.classes))\n",
    "        # The class is given from the image path itself\n",
    "        _class = int(img_path.split('/')[-2])\n",
    "        label[_class] = 1.\n",
    "        if isinstance(self.transform, A.Compose):\n",
    "            image = self.transform(image=image)[\"image\"]\n",
    "        elif isinstance(self.transform, transforms.Compose):\n",
    "            image = self.transform(image)\n",
    "        return image, label"
   ]
  },
  {
   "cell_type": "code",
   "execution_count": 76,
   "metadata": {
    "id": "AFn6dpvHbzT8"
   },
   "outputs": [],
   "source": [
    "import torchvision\n",
    "from torchvision import transforms\n",
    "\n",
    "# Put all the images to same size. Hopefully 64x64 doesn't ruin too much the image geometry..\n",
    "## FIXME: Also try with other resizing choices!\n",
    "transform = transforms.Compose([\n",
    "    transforms.Resize(size=(64,64)),\n",
    "    transforms.ToTensor()\n",
    "])\n",
    "\n",
    "test_image_data = torchvision.datasets.ImageFolder(\n",
    "    root=\"svhn_data/test/\",\n",
    "    transform=transform)\n",
    "\n",
    "\n",
    "train_image_data = torchvision.datasets.ImageFolder(\n",
    "    root=\"svhn_data/train/\",\n",
    "    transform=transform)"
   ]
  },
  {
   "cell_type": "code",
   "execution_count": 77,
   "metadata": {
    "colab": {
     "base_uri": "https://localhost:8080/"
    },
    "id": "QvUsbpBQcm3G",
    "outputId": "147d5ed3-2241-4400-be86-16b134b55b51"
   },
   "outputs": [
    {
     "name": "stdout",
     "output_type": "stream",
     "text": [
      "mean and std: \n",
      " tensor([0.4437, 0.4453, 0.4615]) tensor([0.2214, 0.2257, 0.2268])\n"
     ]
    }
   ],
   "source": [
    "import torch\n",
    "from torch.utils.data import DataLoader\n",
    "\n",
    "num_workers = 1\n",
    "image_data_loader = DataLoader(\n",
    "    train_image_data,\n",
    "    # batch size is whole dataset\n",
    "    batch_size=len(train_image_data)//num_workers,\n",
    "    shuffle=False,\n",
    "    num_workers=num_workers)\n",
    "\n",
    "def mean_std(loader):\n",
    "  images, lebels = next(iter(loader))\n",
    "  # shape of images = [b,c,w,h]\n",
    "  mean, std = images.mean([0,2,3]), images.std([0,2,3])\n",
    "  return mean, std\n",
    "\n",
    "mean, std = mean_std(image_data_loader)\n",
    "print(\"mean and std: \\n\", mean, std)"
   ]
  },
  {
   "cell_type": "code",
   "execution_count": 74,
   "metadata": {
    "colab": {
     "base_uri": "https://localhost:8080/"
    },
    "id": "yGb2OFyvcg_g",
    "outputId": "133ebd38-49f9-42c1-b8b2-634c513b9e0a"
   },
   "outputs": [
    {
     "name": "stdout",
     "output_type": "stream",
     "text": [
      "mean and std: \n",
      " tensor([0.4215, 0.4232, 0.4456]) tensor([0.1958, 0.1964, 0.1936])\n"
     ]
    }
   ],
   "source": [
    "import torch\n",
    "from torch.utils.data import DataLoader\n",
    "\n",
    "num_workers = 1\n",
    "image_data_loader = DataLoader(\n",
    "    test_image_data,\n",
    "    # batch size is whole dataset\n",
    "    batch_size=len(test_image_data)//num_workers,\n",
    "    shuffle=False,\n",
    "    num_workers=num_workers)\n",
    "\n",
    "def mean_std(loader):\n",
    "  images, lebels = next(iter(loader))\n",
    "  # shape of images = [b,c,w,h]\n",
    "  mean, std = images.mean([0,2,3]), images.std([0,2,3])\n",
    "  return mean, std\n",
    "\n",
    "mean, std = mean_std(image_data_loader)\n",
    "print(\"mean and std: \\n\", mean, std)"
   ]
  },
  {
   "cell_type": "markdown",
   "metadata": {
    "id": "Vy-kU5k4Dbee"
   },
   "source": [
    "## Augmentation of the dataset using `albumentations`"
   ]
  },
  {
   "cell_type": "code",
   "execution_count": 82,
   "metadata": {
    "id": "r41L86cbDb98"
   },
   "outputs": [],
   "source": [
    "# We can combine the custom data loading class `SVHNDataset` with `albumentations` in order to apply\n",
    "# data augmentation\n",
    "\n",
    "from albumentations.pytorch import ToTensorV2\n",
    "\n",
    "transform = A.Compose(\n",
    "    [\n",
    "        A.Resize(64,64),\n",
    "        A.RGBShift(r_shift_limit=10, g_shift_limit=10, b_shift_limit=10, p=0.5),\n",
    "        A.RandomBrightnessContrast(p=0.5),\n",
    "        A.MultiplicativeNoise(multiplier=[0.5,2], per_channel=True, p=0.15),\n",
    "        A.HueSaturationValue(hue_shift_limit=5, sat_shift_limit=5, val_shift_limit=5, p=0.5),\n",
    "        A.RandomBrightnessContrast(brightness_limit=(-0.1,0.1), contrast_limit=(-0.1, 0.1), p=0.5),\n",
    "        A.Normalize(mean=(0.4215, 0.4232, 0.4456), std=(0.1958, 0.1964, 0.1936)),\n",
    "        ToTensorV2(),\n",
    "    ]\n",
    ")"
   ]
  },
  {
   "cell_type": "code",
   "execution_count": 83,
   "metadata": {
    "id": "WlbsF8NwEYZZ"
   },
   "outputs": [],
   "source": [
    "# The whole training dataset\n",
    "img_paths = list(pathlib.Path(\"svhn_data/train/\").glob(\"*/*.png\"))\n",
    "dtrainsvhn = SVHNDataset(img_paths, transform=transform)"
   ]
  },
  {
   "cell_type": "code",
   "execution_count": 84,
   "metadata": {
    "colab": {
     "base_uri": "https://localhost:8080/"
    },
    "id": "1QbhhmCDY7mB",
    "outputId": "59ef264b-5a80-4588-f135-365dca919d35"
   },
   "outputs": [
    {
     "name": "stderr",
     "output_type": "stream",
     "text": [
      "\r",
      "Processing train dataset:   0% |                               | ETA:  --:--:--"
     ]
    },
    {
     "name": "stdout",
     "output_type": "stream",
     "text": [
      "torch.Size([14969, 3, 64, 64])\n"
     ]
    },
    {
     "name": "stderr",
     "output_type": "stream",
     "text": [
      "Processing train dataset: 100% |###############################| Time:  0:00:15\n"
     ]
    },
    {
     "name": "stdout",
     "output_type": "stream",
     "text": [
      "mean and std: \n",
      " tensor([0.0357, 0.0333, 0.0263]) tensor([1.1798, 1.1743, 1.1774])\n"
     ]
    }
   ],
   "source": [
    "# Let see how the mean and std look like after applying the augmentation operations\n",
    "from progressbar import ProgressBar, Percentage, Bar, ETA\n",
    "\n",
    "widgets = ['Processing train dataset: ', Percentage(), ' ', Bar(), ' ', ETA()]\n",
    "pbar = ProgressBar(widgets=widgets, maxval=1e4).start()\n",
    "\n",
    "image_data_loader = DataLoader(\n",
    "    dtrainsvhn,\n",
    "    # batch size is whole dataset\n",
    "    batch_size=dtrainsvhn.size,\n",
    "    shuffle=False,\n",
    "    num_workers=os.cpu_count())\n",
    "\n",
    "def mean_std(loader):\n",
    "  images, lebels = next(iter(loader))\n",
    "  # shape of images = [b,c,w,h]\n",
    "  mean, std = images.mean([0,2,3]), images.std([0,2,3])\n",
    "  return mean, std\n",
    "\n",
    "mean, std = pbar(mean_std(image_data_loader))\n",
    "print(\"mean and std: \\n\", mean, std)"
   ]
  },
  {
   "cell_type": "markdown",
   "metadata": {
    "id": "ONiueXwaDmSL"
   },
   "source": [
    "## Get the NN model and train"
   ]
  },
  {
   "cell_type": "code",
   "execution_count": 90,
   "metadata": {
    "id": "pRZ5Gq9vFIk0"
   },
   "outputs": [],
   "source": [
    "from lib.modelbuilds import svhn_cnn\n",
    "from lib.trainloop import train_loop\n",
    "\n",
    "model = svhn_cnn(3,10)"
   ]
  },
  {
   "cell_type": "code",
   "execution_count": 89,
   "metadata": {
    "colab": {
     "base_uri": "https://localhost:8080/"
    },
    "id": "nWYkt3V7Fiiq",
    "outputId": "264cb438-2f97-4990-821a-d8e5d771bb94"
   },
   "outputs": [
    {
     "data": {
      "text/plain": [
       "<module 'lib.modelbuilds' from '/content/lib/modelbuilds.py'>"
      ]
     },
     "execution_count": 89,
     "metadata": {},
     "output_type": "execute_result"
    }
   ],
   "source": [
    "import importlib, lib\n",
    "importlib.reload(lib.trainloop)\n",
    "importlib.reload(lib.modelbuilds)"
   ]
  },
  {
   "cell_type": "code",
   "execution_count": 91,
   "metadata": {
    "id": "yM67L8AnDqUB"
   },
   "outputs": [],
   "source": [
    "import os, torch\n",
    "from torch.utils.data import DataLoader\n",
    "from torch import optim\n",
    "\n",
    "# Choose device\n",
    "DEVICE = \"cuda\"\n",
    "EPOCHS = 50\n",
    "LEARNING_RATE = 1e-2\n",
    "WEIGHT_DECAY = 1e-5\n",
    "\n",
    "num_workers = os.cpu_count()\n",
    "\n",
    "train_loader = DataLoader(\n",
    "    dtrainsvhn,\n",
    "    # batch size is whole dataset\n",
    "    batch_size=4,\n",
    "    shuffle=True,\n",
    "    num_workers=num_workers)\n",
    "\n",
    "# Normalize test data to zero mean and unit variance too\n",
    "transform = A.Compose([\n",
    "    A.Resize(64,64),\n",
    "    A.Normalize(mean = (0.4437, 0.4453, 0.4615), std=(0.2214, 0.2257, 0.2268)),\n",
    "    ToTensorV2()\n",
    "    ]\n",
    ")\n",
    "\n",
    "img_paths = list(pathlib.Path(\"svhn_data/test/\").glob(\"*/*.png\"))\n",
    "dtestsvhn = SVHNDataset(img_paths, transform=transform)\n",
    "test_loader = DataLoader(\n",
    "    dtestsvhn,\n",
    "    # batch size is whole dataset\n",
    "    batch_size=4,\n",
    "    shuffle=False,\n",
    "    num_workers=num_workers)\n",
    "\n",
    "# Choose optimizer\n",
    "# optimizer = optim.Adam(model.parameters(), lr=LEARNING_RATE, weight_decay=WEIGHT_DECAY)\n",
    "optimizer = optim.SGD(model.parameters(), lr=LEARNING_RATE)\n",
    "\n",
    "# Choose loss - i choose standard cross entropy loss\n",
    "loss_fn = torch.nn.CrossEntropyLoss()"
   ]
  },
  {
   "cell_type": "code",
   "execution_count": 92,
   "metadata": {
    "colab": {
     "base_uri": "https://localhost:8080/"
    },
    "id": "2vpJKWCPEgE2",
    "outputId": "80ca944b-c0f0-4e12-ae43-8b98a7bbc89f"
   },
   "outputs": [
    {
     "name": "stderr",
     "output_type": "stream",
     "text": [
      "Train step over batches:   0% |                                | ETA:  --:--:--"
     ]
    },
    {
     "name": "stdout",
     "output_type": "stream",
     "text": [
      "Current epoch: 0\n"
     ]
    },
    {
     "name": "stderr",
     "output_type": "stream",
     "text": [
      "Train step over batches: 100% |################################| Time:  0:00:38\n",
      "Validation step over batches: 100% |###########################| Time:  0:00:09\n",
      "Train step over batches:   0% |                                | ETA:  --:--:--"
     ]
    },
    {
     "name": "stdout",
     "output_type": "stream",
     "text": [
      "Training -- loss: 1.51e+00, acc: 4.80e-01\n",
      "Validation -- loss: 1.05e+00, acc: 6.62e-01\n",
      "Current epoch: 1\n"
     ]
    },
    {
     "name": "stderr",
     "output_type": "stream",
     "text": [
      "Train step over batches: 100% |################################| Time:  0:00:38\n",
      "Validation step over batches: 100% |###########################| Time:  0:00:09\n",
      "Train step over batches:   0% |                                | ETA:  --:--:--"
     ]
    },
    {
     "name": "stdout",
     "output_type": "stream",
     "text": [
      "Training -- loss: 6.63e-01, acc: 7.95e-01\n",
      "Validation -- loss: 8.39e-01, acc: 7.43e-01\n",
      "Current epoch: 2\n"
     ]
    },
    {
     "name": "stderr",
     "output_type": "stream",
     "text": [
      "Train step over batches: 100% |################################| Time:  0:00:38\n",
      "Validation step over batches: 100% |###########################| Time:  0:00:09\n",
      "Train step over batches:   0% |                                | ETA:  --:--:--"
     ]
    },
    {
     "name": "stdout",
     "output_type": "stream",
     "text": [
      "Training -- loss: 4.98e-01, acc: 8.47e-01\n",
      "Validation -- loss: 6.42e-01, acc: 8.00e-01\n",
      "Current epoch: 3\n"
     ]
    },
    {
     "name": "stderr",
     "output_type": "stream",
     "text": [
      "Train step over batches: 100% |################################| Time:  0:00:38\n",
      "Validation step over batches: 100% |###########################| Time:  0:00:09\n",
      "Train step over batches:   0% |                                | ETA:  --:--:--"
     ]
    },
    {
     "name": "stdout",
     "output_type": "stream",
     "text": [
      "Training -- loss: 4.11e-01, acc: 8.77e-01\n",
      "Validation -- loss: 6.39e-01, acc: 8.07e-01\n",
      "Current epoch: 4\n"
     ]
    },
    {
     "name": "stderr",
     "output_type": "stream",
     "text": [
      "Train step over batches: 100% |################################| Time:  0:00:38\n",
      "Validation step over batches: 100% |###########################| Time:  0:00:08\n",
      "Train step over batches:   0% |                                | ETA:  --:--:--"
     ]
    },
    {
     "name": "stdout",
     "output_type": "stream",
     "text": [
      "Training -- loss: 3.38e-01, acc: 9.02e-01\n",
      "Validation -- loss: 5.35e-01, acc: 8.40e-01\n",
      "Current epoch: 5\n"
     ]
    },
    {
     "name": "stderr",
     "output_type": "stream",
     "text": [
      "Train step over batches: 100% |################################| Time:  0:00:38\n",
      "Validation step over batches: 100% |###########################| Time:  0:00:09\n",
      "Train step over batches:   0% |                                | ETA:  --:--:--"
     ]
    },
    {
     "name": "stdout",
     "output_type": "stream",
     "text": [
      "Training -- loss: 2.98e-01, acc: 9.12e-01\n",
      "Validation -- loss: 5.21e-01, acc: 8.48e-01\n",
      "Current epoch: 6\n"
     ]
    },
    {
     "name": "stderr",
     "output_type": "stream",
     "text": [
      "Train step over batches: 100% |################################| Time:  0:00:37\n",
      "Validation step over batches: 100% |###########################| Time:  0:00:09\n",
      "Train step over batches:   0% |                                | ETA:  --:--:--"
     ]
    },
    {
     "name": "stdout",
     "output_type": "stream",
     "text": [
      "Training -- loss: 2.48e-01, acc: 9.27e-01\n",
      "Validation -- loss: 5.50e-01, acc: 8.36e-01\n",
      "Current epoch: 7\n"
     ]
    },
    {
     "name": "stderr",
     "output_type": "stream",
     "text": [
      "Train step over batches: 100% |################################| Time:  0:00:38\n",
      "Validation step over batches: 100% |###########################| Time:  0:00:09\n",
      "Train step over batches:   0% |                                | ETA:  --:--:--"
     ]
    },
    {
     "name": "stdout",
     "output_type": "stream",
     "text": [
      "Training -- loss: 2.12e-01, acc: 9.38e-01\n",
      "Validation -- loss: 5.33e-01, acc: 8.51e-01\n",
      "Current epoch: 8\n"
     ]
    },
    {
     "name": "stderr",
     "output_type": "stream",
     "text": [
      "Train step over batches: 100% |################################| Time:  0:00:37\n",
      "Validation step over batches: 100% |###########################| Time:  0:00:09\n",
      "Train step over batches:   0% |                                | ETA:  --:--:--"
     ]
    },
    {
     "name": "stdout",
     "output_type": "stream",
     "text": [
      "Training -- loss: 1.74e-01, acc: 9.49e-01\n",
      "Validation -- loss: 5.27e-01, acc: 8.55e-01\n",
      "Current epoch: 9\n"
     ]
    },
    {
     "name": "stderr",
     "output_type": "stream",
     "text": [
      "Train step over batches: 100% |################################| Time:  0:00:38\n",
      "Validation step over batches: 100% |###########################| Time:  0:00:09\n",
      "Train step over batches:   0% |                                | ETA:  --:--:--"
     ]
    },
    {
     "name": "stdout",
     "output_type": "stream",
     "text": [
      "Training -- loss: 1.43e-01, acc: 9.59e-01\n",
      "Validation -- loss: 6.22e-01, acc: 8.40e-01\n",
      "Current epoch: 10\n"
     ]
    },
    {
     "name": "stderr",
     "output_type": "stream",
     "text": [
      "Train step over batches: 100% |################################| Time:  0:00:38\n",
      "Validation step over batches: 100% |###########################| Time:  0:00:09\n",
      "Train step over batches:   0% |                                | ETA:  --:--:--"
     ]
    },
    {
     "name": "stdout",
     "output_type": "stream",
     "text": [
      "Training -- loss: 1.32e-01, acc: 9.59e-01\n",
      "Validation -- loss: 6.64e-01, acc: 8.29e-01\n",
      "Current epoch: 11\n"
     ]
    },
    {
     "name": "stderr",
     "output_type": "stream",
     "text": [
      "Train step over batches: 100% |################################| Time:  0:00:38\n",
      "Validation step over batches: 100% |###########################| Time:  0:00:09\n",
      "Train step over batches:   0% |                                | ETA:  --:--:--"
     ]
    },
    {
     "name": "stdout",
     "output_type": "stream",
     "text": [
      "Training -- loss: 1.11e-01, acc: 9.66e-01\n",
      "Validation -- loss: 6.18e-01, acc: 8.50e-01\n",
      "Current epoch: 12\n"
     ]
    },
    {
     "name": "stderr",
     "output_type": "stream",
     "text": [
      "Train step over batches: 100% |################################| Time:  0:00:38\n",
      "Validation step over batches: 100% |###########################| Time:  0:00:09\n",
      "Train step over batches:   0% |                                | ETA:  --:--:--"
     ]
    },
    {
     "name": "stdout",
     "output_type": "stream",
     "text": [
      "Training -- loss: 9.78e-02, acc: 9.70e-01\n",
      "Validation -- loss: 8.26e-01, acc: 8.17e-01\n",
      "Current epoch: 13\n"
     ]
    },
    {
     "name": "stderr",
     "output_type": "stream",
     "text": [
      "Train step over batches: 100% |################################| Time:  0:00:38\n",
      "Validation step over batches: 100% |###########################| Time:  0:00:09\n",
      "Train step over batches:   0% |                                | ETA:  --:--:--"
     ]
    },
    {
     "name": "stdout",
     "output_type": "stream",
     "text": [
      "Training -- loss: 8.89e-02, acc: 9.73e-01\n",
      "Validation -- loss: 7.21e-01, acc: 8.36e-01\n",
      "Current epoch: 14\n"
     ]
    },
    {
     "name": "stderr",
     "output_type": "stream",
     "text": [
      "Train step over batches: 100% |################################| Time:  0:00:38\n",
      "Validation step over batches: 100% |###########################| Time:  0:00:09\n",
      "Train step over batches:   0% |                                | ETA:  --:--:--"
     ]
    },
    {
     "name": "stdout",
     "output_type": "stream",
     "text": [
      "Training -- loss: 7.33e-02, acc: 9.77e-01\n",
      "Validation -- loss: 7.42e-01, acc: 8.35e-01\n",
      "Current epoch: 15\n"
     ]
    },
    {
     "name": "stderr",
     "output_type": "stream",
     "text": [
      "Train step over batches: 100% |################################| Time:  0:00:38\n",
      "Validation step over batches: 100% |###########################| Time:  0:00:09\n",
      "Train step over batches:   0% |                                | ETA:  --:--:--"
     ]
    },
    {
     "name": "stdout",
     "output_type": "stream",
     "text": [
      "Training -- loss: 6.58e-02, acc: 9.80e-01\n",
      "Validation -- loss: 7.29e-01, acc: 8.47e-01\n",
      "Current epoch: 16\n"
     ]
    },
    {
     "name": "stderr",
     "output_type": "stream",
     "text": [
      "Train step over batches: 100% |################################| Time:  0:00:38\n",
      "Validation step over batches: 100% |###########################| Time:  0:00:09\n",
      "Train step over batches:   0% |                                | ETA:  --:--:--"
     ]
    },
    {
     "name": "stdout",
     "output_type": "stream",
     "text": [
      "Training -- loss: 6.14e-02, acc: 9.81e-01\n",
      "Validation -- loss: 6.73e-01, acc: 8.57e-01\n",
      "Current epoch: 17\n"
     ]
    },
    {
     "name": "stderr",
     "output_type": "stream",
     "text": [
      "Train step over batches: 100% |################################| Time:  0:00:38\n",
      "Validation step over batches: 100% |###########################| Time:  0:00:09\n",
      "Train step over batches:   0% |                                | ETA:  --:--:--"
     ]
    },
    {
     "name": "stdout",
     "output_type": "stream",
     "text": [
      "Training -- loss: 5.40e-02, acc: 9.83e-01\n",
      "Validation -- loss: 7.83e-01, acc: 8.45e-01\n",
      "Current epoch: 18\n"
     ]
    },
    {
     "name": "stderr",
     "output_type": "stream",
     "text": [
      "Train step over batches: 100% |################################| Time:  0:00:38\n",
      "Validation step over batches: 100% |###########################| Time:  0:00:09\n",
      "Train step over batches:   0% |                                | ETA:  --:--:--"
     ]
    },
    {
     "name": "stdout",
     "output_type": "stream",
     "text": [
      "Training -- loss: 4.92e-02, acc: 9.85e-01\n",
      "Validation -- loss: 7.20e-01, acc: 8.48e-01\n",
      "Current epoch: 19\n"
     ]
    },
    {
     "name": "stderr",
     "output_type": "stream",
     "text": [
      "Train step over batches: 100% |################################| Time:  0:00:38\n",
      "Validation step over batches: 100% |###########################| Time:  0:00:09\n",
      "Train step over batches:   0% |                                | ETA:  --:--:--"
     ]
    },
    {
     "name": "stdout",
     "output_type": "stream",
     "text": [
      "Training -- loss: 4.46e-02, acc: 9.86e-01\n",
      "Validation -- loss: 7.01e-01, acc: 8.67e-01\n",
      "Current epoch: 20\n"
     ]
    },
    {
     "name": "stderr",
     "output_type": "stream",
     "text": [
      "Train step over batches: 100% |################################| Time:  0:00:38\n",
      "Validation step over batches: 100% |###########################| Time:  0:00:09\n",
      "Train step over batches:   0% |                                | ETA:  --:--:--"
     ]
    },
    {
     "name": "stdout",
     "output_type": "stream",
     "text": [
      "Training -- loss: 3.45e-02, acc: 9.89e-01\n",
      "Validation -- loss: 7.75e-01, acc: 8.51e-01\n",
      "Current epoch: 21\n"
     ]
    },
    {
     "name": "stderr",
     "output_type": "stream",
     "text": [
      "Train step over batches: 100% |################################| Time:  0:00:38\n",
      "Validation step over batches: 100% |###########################| Time:  0:00:09\n",
      "Train step over batches:   0% |                                | ETA:  --:--:--"
     ]
    },
    {
     "name": "stdout",
     "output_type": "stream",
     "text": [
      "Training -- loss: 3.66e-02, acc: 9.89e-01\n",
      "Validation -- loss: 7.71e-01, acc: 8.49e-01\n",
      "Current epoch: 22\n"
     ]
    },
    {
     "name": "stderr",
     "output_type": "stream",
     "text": [
      "Train step over batches: 100% |################################| Time:  0:00:38\n",
      "Validation step over batches: 100% |###########################| Time:  0:00:09\n",
      "Train step over batches:   0% |                                | ETA:  --:--:--"
     ]
    },
    {
     "name": "stdout",
     "output_type": "stream",
     "text": [
      "Training -- loss: 3.88e-02, acc: 9.88e-01\n",
      "Validation -- loss: 7.47e-01, acc: 8.59e-01\n",
      "Current epoch: 23\n"
     ]
    },
    {
     "name": "stderr",
     "output_type": "stream",
     "text": [
      "Train step over batches: 100% |################################| Time:  0:00:38\n",
      "Validation step over batches: 100% |###########################| Time:  0:00:09\n",
      "Train step over batches:   0% |                                | ETA:  --:--:--"
     ]
    },
    {
     "name": "stdout",
     "output_type": "stream",
     "text": [
      "Training -- loss: 3.56e-02, acc: 9.89e-01\n",
      "Validation -- loss: 4.92e+00, acc: 5.79e-01\n",
      "Current epoch: 24\n"
     ]
    },
    {
     "name": "stderr",
     "output_type": "stream",
     "text": [
      "Train step over batches: 100% |################################| Time:  0:00:38\n",
      "Validation step over batches: 100% |###########################| Time:  0:00:09\n",
      "Train step over batches:   0% |                                | ETA:  --:--:--"
     ]
    },
    {
     "name": "stdout",
     "output_type": "stream",
     "text": [
      "Training -- loss: 4.96e-02, acc: 9.86e-01\n",
      "Validation -- loss: 8.28e-01, acc: 8.48e-01\n",
      "Current epoch: 25\n"
     ]
    },
    {
     "name": "stderr",
     "output_type": "stream",
     "text": [
      "Train step over batches: 100% |################################| Time:  0:00:38\n",
      "Validation step over batches: 100% |###########################| Time:  0:00:10\n",
      "Train step over batches:   0% |                                | ETA:  --:--:--"
     ]
    },
    {
     "name": "stdout",
     "output_type": "stream",
     "text": [
      "Training -- loss: 3.41e-02, acc: 9.89e-01\n",
      "Validation -- loss: 7.89e-01, acc: 8.51e-01\n",
      "Current epoch: 26\n"
     ]
    },
    {
     "name": "stderr",
     "output_type": "stream",
     "text": [
      "Train step over batches: 100% |################################| Time:  0:00:38\n",
      "Validation step over batches: 100% |###########################| Time:  0:00:09\n",
      "Train step over batches:   0% |                                | ETA:  --:--:--"
     ]
    },
    {
     "name": "stdout",
     "output_type": "stream",
     "text": [
      "Training -- loss: 3.73e-02, acc: 9.88e-01\n",
      "Validation -- loss: 7.29e-01, acc: 8.59e-01\n",
      "Current epoch: 27\n"
     ]
    },
    {
     "name": "stderr",
     "output_type": "stream",
     "text": [
      "Train step over batches: 100% |################################| Time:  0:00:38\n",
      "Validation step over batches: 100% |###########################| Time:  0:00:09\n",
      "Train step over batches:   0% |                                | ETA:  --:--:--"
     ]
    },
    {
     "name": "stdout",
     "output_type": "stream",
     "text": [
      "Training -- loss: 1.99e-02, acc: 9.94e-01\n",
      "Validation -- loss: 8.16e-01, acc: 8.61e-01\n",
      "Current epoch: 28\n"
     ]
    },
    {
     "name": "stderr",
     "output_type": "stream",
     "text": [
      "Train step over batches: 100% |################################| Time:  0:00:38\n",
      "Validation step over batches: 100% |###########################| Time:  0:00:08\n",
      "Train step over batches:   0% |                                | ETA:  --:--:--"
     ]
    },
    {
     "name": "stdout",
     "output_type": "stream",
     "text": [
      "Training -- loss: 2.38e-02, acc: 9.93e-01\n",
      "Validation -- loss: 7.54e-01, acc: 8.63e-01\n",
      "Current epoch: 29\n"
     ]
    },
    {
     "name": "stderr",
     "output_type": "stream",
     "text": [
      "Train step over batches: 100% |################################| Time:  0:00:38\n",
      "Validation step over batches: 100% |###########################| Time:  0:00:09\n",
      "Train step over batches:   0% |                                | ETA:  --:--:--"
     ]
    },
    {
     "name": "stdout",
     "output_type": "stream",
     "text": [
      "Training -- loss: 2.58e-02, acc: 9.92e-01\n",
      "Validation -- loss: 9.00e-01, acc: 8.37e-01\n",
      "Current epoch: 30\n"
     ]
    },
    {
     "name": "stderr",
     "output_type": "stream",
     "text": [
      "Train step over batches: 100% |################################| Time:  0:00:38\n",
      "Validation step over batches: 100% |###########################| Time:  0:00:09\n",
      "Train step over batches:   0% |                                | ETA:  --:--:--"
     ]
    },
    {
     "name": "stdout",
     "output_type": "stream",
     "text": [
      "Training -- loss: 1.88e-02, acc: 9.94e-01\n",
      "Validation -- loss: 8.75e-01, acc: 8.54e-01\n",
      "Current epoch: 31\n"
     ]
    },
    {
     "name": "stderr",
     "output_type": "stream",
     "text": [
      "Train step over batches: 100% |################################| Time:  0:00:38\n",
      "Validation step over batches: 100% |###########################| Time:  0:00:09\n",
      "Train step over batches:   0% |                                | ETA:  --:--:--"
     ]
    },
    {
     "name": "stdout",
     "output_type": "stream",
     "text": [
      "Training -- loss: 2.61e-02, acc: 9.92e-01\n",
      "Validation -- loss: 7.50e-01, acc: 8.52e-01\n",
      "Current epoch: 32\n"
     ]
    },
    {
     "name": "stderr",
     "output_type": "stream",
     "text": [
      "Train step over batches: 100% |################################| Time:  0:00:38\n",
      "Validation step over batches: 100% |###########################| Time:  0:00:09\n",
      "Train step over batches:   0% |                                | ETA:  --:--:--"
     ]
    },
    {
     "name": "stdout",
     "output_type": "stream",
     "text": [
      "Training -- loss: 1.66e-02, acc: 9.95e-01\n",
      "Validation -- loss: 7.94e-01, acc: 8.55e-01\n",
      "Current epoch: 33\n"
     ]
    },
    {
     "name": "stderr",
     "output_type": "stream",
     "text": [
      "Train step over batches: 100% |################################| Time:  0:00:38\n",
      "Validation step over batches: 100% |###########################| Time:  0:00:09\n",
      "Train step over batches:   0% |                                | ETA:  --:--:--"
     ]
    },
    {
     "name": "stdout",
     "output_type": "stream",
     "text": [
      "Training -- loss: 2.17e-02, acc: 9.94e-01\n",
      "Validation -- loss: 8.06e-01, acc: 8.55e-01\n",
      "Current epoch: 34\n"
     ]
    },
    {
     "name": "stderr",
     "output_type": "stream",
     "text": [
      "Train step over batches: 100% |################################| Time:  0:00:38\n",
      "Validation step over batches: 100% |###########################| Time:  0:00:09\n",
      "Train step over batches:   0% |                                | ETA:  --:--:--"
     ]
    },
    {
     "name": "stdout",
     "output_type": "stream",
     "text": [
      "Training -- loss: 1.82e-02, acc: 9.94e-01\n",
      "Validation -- loss: 8.19e-01, acc: 8.52e-01\n",
      "Current epoch: 35\n"
     ]
    },
    {
     "name": "stderr",
     "output_type": "stream",
     "text": [
      "Train step over batches: 100% |################################| Time:  0:00:37\n",
      "Validation step over batches: 100% |###########################| Time:  0:00:09\n",
      "Train step over batches:   0% |                                | ETA:  --:--:--"
     ]
    },
    {
     "name": "stdout",
     "output_type": "stream",
     "text": [
      "Training -- loss: 1.88e-02, acc: 9.94e-01\n",
      "Validation -- loss: 8.76e-01, acc: 8.53e-01\n",
      "Current epoch: 36\n"
     ]
    },
    {
     "name": "stderr",
     "output_type": "stream",
     "text": [
      "Train step over batches: 100% |################################| Time:  0:00:36\n",
      "Validation step over batches: 100% |###########################| Time:  0:00:08\n",
      "Train step over batches:   0% |                                | ETA:  --:--:--"
     ]
    },
    {
     "name": "stdout",
     "output_type": "stream",
     "text": [
      "Training -- loss: 1.93e-02, acc: 9.94e-01\n",
      "Validation -- loss: 7.48e-01, acc: 8.70e-01\n",
      "Current epoch: 37\n"
     ]
    },
    {
     "name": "stderr",
     "output_type": "stream",
     "text": [
      "Train step over batches: 100% |################################| Time:  0:00:36\n",
      "Validation step over batches: 100% |###########################| Time:  0:00:09\n",
      "Train step over batches:   0% |                                | ETA:  --:--:--"
     ]
    },
    {
     "name": "stdout",
     "output_type": "stream",
     "text": [
      "Training -- loss: 1.71e-02, acc: 9.95e-01\n",
      "Validation -- loss: 7.93e-01, acc: 8.63e-01\n",
      "Current epoch: 38\n"
     ]
    },
    {
     "name": "stderr",
     "output_type": "stream",
     "text": [
      "Train step over batches: 100% |################################| Time:  0:00:36\n",
      "Validation step over batches: 100% |###########################| Time:  0:00:08\n",
      "Train step over batches:   0% |                                | ETA:  --:--:--"
     ]
    },
    {
     "name": "stdout",
     "output_type": "stream",
     "text": [
      "Training -- loss: 1.05e-02, acc: 9.97e-01\n",
      "Validation -- loss: 8.59e-01, acc: 8.58e-01\n",
      "Current epoch: 39\n"
     ]
    },
    {
     "name": "stderr",
     "output_type": "stream",
     "text": [
      "Train step over batches: 100% |################################| Time:  0:00:36\n",
      "Validation step over batches: 100% |###########################| Time:  0:00:09\n",
      "Train step over batches:   0% |                                | ETA:  --:--:--"
     ]
    },
    {
     "name": "stdout",
     "output_type": "stream",
     "text": [
      "Training -- loss: 1.17e-02, acc: 9.96e-01\n",
      "Validation -- loss: 9.10e-01, acc: 8.52e-01\n",
      "Current epoch: 40\n"
     ]
    },
    {
     "name": "stderr",
     "output_type": "stream",
     "text": [
      "Train step over batches: 100% |################################| Time:  0:00:36\n",
      "Validation step over batches: 100% |###########################| Time:  0:00:09\n",
      "Train step over batches:   0% |                                | ETA:  --:--:--"
     ]
    },
    {
     "name": "stdout",
     "output_type": "stream",
     "text": [
      "Training -- loss: 1.42e-02, acc: 9.95e-01\n",
      "Validation -- loss: 8.72e-01, acc: 8.52e-01\n",
      "Current epoch: 41\n"
     ]
    },
    {
     "name": "stderr",
     "output_type": "stream",
     "text": [
      "Train step over batches: 100% |################################| Time:  0:00:35\n",
      "Validation step over batches: 100% |###########################| Time:  0:00:09\n",
      "Train step over batches:   0% |                                | ETA:  --:--:--"
     ]
    },
    {
     "name": "stdout",
     "output_type": "stream",
     "text": [
      "Training -- loss: 1.55e-02, acc: 9.96e-01\n",
      "Validation -- loss: 8.77e-01, acc: 8.54e-01\n",
      "Current epoch: 42\n"
     ]
    },
    {
     "name": "stderr",
     "output_type": "stream",
     "text": [
      "Train step over batches: 100% |################################| Time:  0:00:36\n",
      "Validation step over batches: 100% |###########################| Time:  0:00:09\n",
      "Train step over batches:   0% |                                | ETA:  --:--:--"
     ]
    },
    {
     "name": "stdout",
     "output_type": "stream",
     "text": [
      "Training -- loss: 1.57e-02, acc: 9.96e-01\n",
      "Validation -- loss: 7.91e-01, acc: 8.67e-01\n",
      "Current epoch: 43\n"
     ]
    },
    {
     "name": "stderr",
     "output_type": "stream",
     "text": [
      "Train step over batches: 100% |################################| Time:  0:00:35\n",
      "Validation step over batches: 100% |###########################| Time:  0:00:09\n",
      "Train step over batches:   0% |                                | ETA:  --:--:--"
     ]
    },
    {
     "name": "stdout",
     "output_type": "stream",
     "text": [
      "Training -- loss: 1.67e-02, acc: 9.94e-01\n",
      "Validation -- loss: 8.88e-01, acc: 8.43e-01\n",
      "Current epoch: 44\n"
     ]
    },
    {
     "name": "stderr",
     "output_type": "stream",
     "text": [
      "Train step over batches: 100% |################################| Time:  0:00:35\n",
      "Validation step over batches: 100% |###########################| Time:  0:00:09\n",
      "Train step over batches:   0% |                                | ETA:  --:--:--"
     ]
    },
    {
     "name": "stdout",
     "output_type": "stream",
     "text": [
      "Training -- loss: 1.09e-02, acc: 9.97e-01\n",
      "Validation -- loss: 8.66e-01, acc: 8.66e-01\n",
      "Current epoch: 45\n"
     ]
    },
    {
     "name": "stderr",
     "output_type": "stream",
     "text": [
      "Train step over batches: 100% |################################| Time:  0:00:35\n",
      "Validation step over batches: 100% |###########################| Time:  0:00:08\n",
      "Train step over batches:   0% |                                | ETA:  --:--:--"
     ]
    },
    {
     "name": "stdout",
     "output_type": "stream",
     "text": [
      "Training -- loss: 1.21e-02, acc: 9.97e-01\n",
      "Validation -- loss: 9.11e-01, acc: 8.56e-01\n",
      "Current epoch: 46\n"
     ]
    },
    {
     "name": "stderr",
     "output_type": "stream",
     "text": [
      "Train step over batches: 100% |################################| Time:  0:00:36\n",
      "Validation step over batches: 100% |###########################| Time:  0:00:09\n",
      "Train step over batches:   0% |                                | ETA:  --:--:--"
     ]
    },
    {
     "name": "stdout",
     "output_type": "stream",
     "text": [
      "Training -- loss: 1.59e-02, acc: 9.96e-01\n",
      "Validation -- loss: 8.76e-01, acc: 8.56e-01\n",
      "Current epoch: 47\n"
     ]
    },
    {
     "name": "stderr",
     "output_type": "stream",
     "text": [
      "Train step over batches: 100% |################################| Time:  0:00:35\n",
      "Validation step over batches: 100% |###########################| Time:  0:00:08\n",
      "Train step over batches:   0% |                                | ETA:  --:--:--"
     ]
    },
    {
     "name": "stdout",
     "output_type": "stream",
     "text": [
      "Training -- loss: 1.26e-02, acc: 9.96e-01\n",
      "Validation -- loss: 8.95e-01, acc: 8.52e-01\n",
      "Current epoch: 48\n"
     ]
    },
    {
     "name": "stderr",
     "output_type": "stream",
     "text": [
      "Train step over batches: 100% |################################| Time:  0:00:35\n",
      "Validation step over batches: 100% |###########################| Time:  0:00:09\n",
      "Train step over batches:   0% |                                | ETA:  --:--:--"
     ]
    },
    {
     "name": "stdout",
     "output_type": "stream",
     "text": [
      "Training -- loss: 8.84e-03, acc: 9.97e-01\n",
      "Validation -- loss: 9.33e-01, acc: 8.62e-01\n",
      "Current epoch: 49\n"
     ]
    },
    {
     "name": "stderr",
     "output_type": "stream",
     "text": [
      "Train step over batches: 100% |################################| Time:  0:00:35\n",
      "Validation step over batches: 100% |###########################| Time:  0:00:08\n",
      "Epoch: 100% |##################################################| Time:  0:39:22\n"
     ]
    },
    {
     "name": "stdout",
     "output_type": "stream",
     "text": [
      "Training -- loss: 8.86e-03, acc: 9.97e-01\n",
      "Validation -- loss: 8.88e-01, acc: 8.62e-01\n"
     ]
    },
    {
     "data": {
      "text/plain": [
       "{'training_loss': [1.5055511237602086,\n",
       "  0.663407749202174,\n",
       "  0.49842399235765295,\n",
       "  0.41086437434097456,\n",
       "  0.3379527592023101,\n",
       "  0.29790045137171606,\n",
       "  0.24831967148342685,\n",
       "  0.2123403415413006,\n",
       "  0.17448826720229588,\n",
       "  0.1431238701578904,\n",
       "  0.13195901636700463,\n",
       "  0.11093599389295869,\n",
       "  0.09781201619307055,\n",
       "  0.08887932481600354,\n",
       "  0.07325745374102918,\n",
       "  0.06576662883273333,\n",
       "  0.06138307522474047,\n",
       "  0.0540219934724848,\n",
       "  0.04919149494935835,\n",
       "  0.04459046329430065,\n",
       "  0.034464130791564365,\n",
       "  0.03661713479854363,\n",
       "  0.03876515209180633,\n",
       "  0.03556594583033357,\n",
       "  0.04956309066467505,\n",
       "  0.03406820338042005,\n",
       "  0.03733970482096507,\n",
       "  0.01992238321929035,\n",
       "  0.023789219199232017,\n",
       "  0.025847676309497844,\n",
       "  0.018770561742942886,\n",
       "  0.026080470728713948,\n",
       "  0.016568245593749562,\n",
       "  0.021726594616893687,\n",
       "  0.018184976057684363,\n",
       "  0.018772010123571853,\n",
       "  0.01931153497630109,\n",
       "  0.01708383640720685,\n",
       "  0.010543278244456951,\n",
       "  0.011692505329901024,\n",
       "  0.014212042720702294,\n",
       "  0.01545284727085099,\n",
       "  0.015734109051090746,\n",
       "  0.01665162828205799,\n",
       "  0.010866459222586755,\n",
       "  0.012135463338173544,\n",
       "  0.01592458277813503,\n",
       "  0.012573298438791047,\n",
       "  0.008844434757898917,\n",
       "  0.008858913172955436],\n",
       " 'testing_loss': [1.0469784221930953,\n",
       "  0.8393268401683465,\n",
       "  0.642214781072401,\n",
       "  0.6394495717740246,\n",
       "  0.5350559014278685,\n",
       "  0.5206833126468213,\n",
       "  0.5503943363685109,\n",
       "  0.5327559191431591,\n",
       "  0.5270966595311478,\n",
       "  0.6217021952884628,\n",
       "  0.6640854842453747,\n",
       "  0.6175177206522228,\n",
       "  0.8259797443658701,\n",
       "  0.7206750093798362,\n",
       "  0.7420129692479185,\n",
       "  0.7291293325868812,\n",
       "  0.6734347041093142,\n",
       "  0.7826775701648438,\n",
       "  0.7195205903403473,\n",
       "  0.7013508539435923,\n",
       "  0.7751901489636821,\n",
       "  0.7708195997119197,\n",
       "  0.7473955498698687,\n",
       "  4.9198523601659785,\n",
       "  0.8275429415259226,\n",
       "  0.7885050267162463,\n",
       "  0.7293489436717375,\n",
       "  0.8155594774907416,\n",
       "  0.7537213439344993,\n",
       "  0.8999259053416775,\n",
       "  0.8750812723415182,\n",
       "  0.7501005349064968,\n",
       "  0.7939140201756046,\n",
       "  0.8061416005139064,\n",
       "  0.8189242446655083,\n",
       "  0.8760607521355926,\n",
       "  0.7479165846163418,\n",
       "  0.7926886205119027,\n",
       "  0.8590456654075124,\n",
       "  0.9095690918747155,\n",
       "  0.8722463911104674,\n",
       "  0.8769079089393693,\n",
       "  0.7905774231469499,\n",
       "  0.8876090397318004,\n",
       "  0.8660702208737899,\n",
       "  0.9108415106457244,\n",
       "  0.8756638697680817,\n",
       "  0.8950955760937465,\n",
       "  0.9325433353806382,\n",
       "  0.8876031837033204],\n",
       " 'training_acc': [0.4798958055036067,\n",
       "  0.7947502003740315,\n",
       "  0.8467138658829816,\n",
       "  0.8765695965802832,\n",
       "  0.901816724552498,\n",
       "  0.9121693828479829,\n",
       "  0.927397809243922,\n",
       "  0.9375500935078814,\n",
       "  0.949238578680203,\n",
       "  0.9587229495057441,\n",
       "  0.9589901148811114,\n",
       "  0.9662035800160299,\n",
       "  0.9698103125834892,\n",
       "  0.9733502538071066,\n",
       "  0.9774913171253006,\n",
       "  0.9795618487843976,\n",
       "  0.981432006411969,\n",
       "  0.9833689553833823,\n",
       "  0.9854394870424793,\n",
       "  0.9863077745124232,\n",
       "  0.9887790542345712,\n",
       "  0.9891798022976223,\n",
       "  0.9882447234838365,\n",
       "  0.9887790542345712,\n",
       "  0.985573069730163,\n",
       "  0.9892465936414641,\n",
       "  0.9875100187015763,\n",
       "  0.9941891530857601,\n",
       "  0.9927865348650815,\n",
       "  0.9923857868020305,\n",
       "  0.9938551963665508,\n",
       "  0.9923857868020305,\n",
       "  0.9948570665241785,\n",
       "  0.9937216136788672,\n",
       "  0.994255944429602,\n",
       "  0.9941223617419183,\n",
       "  0.9943895271172856,\n",
       "  0.9951910232433877,\n",
       "  0.9969943895271173,\n",
       "  0.9961928934010152,\n",
       "  0.9951910232433877,\n",
       "  0.996326476088699,\n",
       "  0.9959925193694897,\n",
       "  0.9944563184611275,\n",
       "  0.9973951375901683,\n",
       "  0.9965936414640663,\n",
       "  0.9956585626502805,\n",
       "  0.9961928934010152,\n",
       "  0.9974619289340102,\n",
       "  0.9972615549024847],\n",
       " 'testing_acc': [0.6622783206659428,\n",
       "  0.7434401013391242,\n",
       "  0.8003076366268549,\n",
       "  0.8068675352877307,\n",
       "  0.8401194353963084,\n",
       "  0.8482175171914585,\n",
       "  0.8363192182410424,\n",
       "  0.8509319580166486,\n",
       "  0.8551845819761129,\n",
       "  0.8403908794788274,\n",
       "  0.8289902280130294,\n",
       "  0.8498461816865726,\n",
       "  0.8174538545059717,\n",
       "  0.8355048859934854,\n",
       "  0.8348262757871878,\n",
       "  0.8469055374592834,\n",
       "  0.8569489685124865,\n",
       "  0.8452768729641694,\n",
       "  0.8478555917480999,\n",
       "  0.86685667752443,\n",
       "  0.8508414766558089,\n",
       "  0.8489413680781759,\n",
       "  0.8589847991313789,\n",
       "  0.5793973941368078,\n",
       "  0.8482627578718784,\n",
       "  0.8505700325732899,\n",
       "  0.8585776330076005,\n",
       "  0.8610206297502715,\n",
       "  0.863056460369164,\n",
       "  0.8371335504885994,\n",
       "  0.8536916395222585,\n",
       "  0.8523344191096635,\n",
       "  0.8546416938110749,\n",
       "  0.8551845819761129,\n",
       "  0.8515200868621065,\n",
       "  0.8531487513572205,\n",
       "  0.869842562432139,\n",
       "  0.8634636264929425,\n",
       "  0.8584419109663409,\n",
       "  0.8522891784292436,\n",
       "  0.8517915309446255,\n",
       "  0.8538273615635179,\n",
       "  0.8669923995656895,\n",
       "  0.8433767643865364,\n",
       "  0.865770901194354,\n",
       "  0.8558631921824105,\n",
       "  0.8561346362649295,\n",
       "  0.8517915309446255,\n",
       "  0.8615635179153095,\n",
       "  0.8618349619978285]}"
      ]
     },
     "execution_count": 92,
     "metadata": {},
     "output_type": "execute_result"
    }
   ],
   "source": [
    "results = train_loop(model,\n",
    "                     train_loader,\n",
    "                     test_loader,\n",
    "                     optimizer,\n",
    "                     loss_fn,\n",
    "                     EPOCHS,\n",
    "                     DEVICE)"
   ]
  },
  {
   "cell_type": "markdown",
   "metadata": {
    "id": "EK-zvPLYoi-W"
   },
   "source": [
    "## Let us plot the training and validation loss"
   ]
  },
  {
   "cell_type": "code",
   "execution_count": 95,
   "metadata": {
    "colab": {
     "base_uri": "https://localhost:8080/",
     "height": 454
    },
    "id": "ejjDbFQ0NYLt",
    "outputId": "862d3a6a-bdbb-43af-ef27-d67ce0499dc6"
   },
   "outputs": [
    {
     "data": {
      "image/png": "[encoded data removed]",
      "text/plain": [
       "<Figure size 640x480 with 1 Axes>"
      ]
     },
     "metadata": {},
     "output_type": "display_data"
    }
   ],
   "source": [
    "import matplotlib.pyplot as plt\n",
    "\n",
    "plt.loglog(results[\"training_loss\"], label=\"training\")\n",
    "plt.loglog(results[\"testing_loss\"], label=\"testing\")\n",
    "plt.ylabel(\"Loss\")\n",
    "plt.xlabel(\"Epoch\")\n",
    "plt.legend(loc='best')\n",
    "plt.show()"
   ]
  },
  {
   "cell_type": "markdown",
   "metadata": {
    "id": "aAd4B39IpQWn"
   },
   "source": [
    "## Now calculate the confusion matrix on the `test` dataset\n",
    "\n"
   ]
  },
  {
   "cell_type": "code",
   "execution_count": 109,
   "metadata": {
    "colab": {
     "base_uri": "https://localhost:8080/"
    },
    "id": "AhxVQifhpW35",
    "outputId": "d4e4a146-5f79-46a8-ffaf-30979a800599"
   },
   "outputs": [
    {
     "name": "stderr",
     "output_type": "stream",
     "text": [
      "Evaluating on test dataset: 100% |#############################| Time:  0:01:00\n"
     ]
    }
   ],
   "source": [
    "from sklearn.metrics import confusion_matrix\n",
    "\n",
    "widgets = ['Evaluating on test dataset: ', Percentage(), ' ', Bar(), ' ', ETA()]\n",
    "pbar = ProgressBar(widgets=widgets, maxval=1e4).start()\n",
    "\n",
    "model.to(\"cpu\")\n",
    "model.eval()\n",
    "# Gather all predictions on test dataset\n",
    "\n",
    "predictions = []\n",
    "gtruths = []\n",
    "with torch.inference_mode():\n",
    "  for _batch, (_input, _output) in pbar(enumerate(test_loader)):\n",
    "    _input.to(DEVICE); _output.to(DEVICE)\n",
    "    _prediction = model(_input)\n",
    "    predictions.append(_prediction.argmax(dim=1))\n",
    "    gtruths.append(_output.argmax(dim=1))"
   ]
  },
  {
   "cell_type": "code",
   "execution_count": null,
   "metadata": {
    "id": "33rcibWxtuSY"
   },
   "outputs": [],
   "source": [
    "# Take just values from the first channel\n",
    "pclass = []\n",
    "gtclass = []\n",
    "for pc, gtc in zip(predictions,gtruths):\n",
    "  pclass.append(pc[0])\n",
    "  gtclass.append(gtc[0])"
   ]
  },
  {
   "cell_type": "code",
   "execution_count": 122,
   "metadata": {
    "id": "m9zj2GIUt6zJ"
   },
   "outputs": [],
   "source": [
    "pclass = [item.numpy() for item in pclass]\n",
    "pclass = np.asarray(pclass,dtype=int)"
   ]
  },
  {
   "cell_type": "code",
   "execution_count": 124,
   "metadata": {
    "id": "gZPyr08YuFVZ"
   },
   "outputs": [],
   "source": [
    "gtclass = [item.numpy() for item in gtclass]\n",
    "gtclass = np.asarray(gtclass,dtype=int)"
   ]
  },
  {
   "cell_type": "code",
   "execution_count": 126,
   "metadata": {
    "colab": {
     "base_uri": "https://localhost:8080/",
     "height": 676
    },
    "id": "FQDsO3k3q8sm",
    "outputId": "a83b9f52-c3de-4bf6-8f4c-ab57163ba186"
   },
   "outputs": [
    {
     "data": {
      "image/png": "[encoded data removed]",
      "text/plain": [
       "<Figure size 1200x800 with 2 Axes>"
      ]
     },
     "metadata": {},
     "output_type": "display_data"
    }
   ],
   "source": [
    "from sklearn.metrics import confusion_matrix\n",
    "import seaborn as sns\n",
    "\n",
    "# Set the figure size\n",
    "plt.figure(figsize=(12, 8))\n",
    "\n",
    "# Calculate the confusion matrix\n",
    "cm = confusion_matrix(y_true=gtclass, y_pred=pclass)\n",
    "\n",
    "# Normalize the confusion matrix\n",
    "cm = cm.astype('float') / cm.sum(axis=1)[:, np.newaxis] * 100.0\n",
    "\n",
    "# Visualize the confusion matrix\n",
    "sns.heatmap(cm, annot=True, cmap='Reds', fmt='.1f', square=True);"
   ]
  },
  {
   "cell_type": "code",
   "execution_count": null,
   "metadata": {
    "id": "5XGBuiyit4lE"
   },
   "outputs": [],
   "source": []
  }
 ],
 "metadata": {
  "accelerator": "GPU",
  "colab": {
   "gpuType": "T4",
   "provenance": []
  },
  "kernelspec": {
   "display_name": "Python 3",
   "language": "python",
   "name": "python3"
  },
  "language_info": {
   "codemirror_mode": {
    "name": "ipython",
    "version": 3
   },
   "file_extension": ".py",
   "mimetype": "text/x-python",
   "name": "python",
   "nbconvert_exporter": "python",
   "pygments_lexer": "ipython3",
   "version": "3.8.10"
  }
 },
 "nbformat": 4,
 "nbformat_minor": 1
}
