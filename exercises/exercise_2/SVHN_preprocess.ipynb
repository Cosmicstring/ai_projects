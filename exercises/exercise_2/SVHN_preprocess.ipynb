{
 "cells": [
  {
   "cell_type": "code",
   "execution_count": 1,
   "metadata": {},
   "outputs": [],
   "source": [
    "%%capture\n",
    "%%bash\n",
    "\n",
    "mkdir -p svhn_data\n",
    "\n",
    "# cd into the folder\n",
    "cd svhn_data\n",
    "\n",
    "# Now download the data\n",
    "train_data=\"http://ufldl.stanford.edu/housenumbers/train.tar.gz\"\n",
    "test_data=\"http://ufldl.stanford.edu/housenumbers/test.tar.gz\"\n",
    "labels=\"https://github.com/krasnopis/paperclub.git\"\n",
    "\n",
    "wget $train_data \n",
    "wget $test_data\n",
    "git clone $labels"
   ]
  },
  {
   "cell_type": "code",
   "execution_count": 2,
   "metadata": {},
   "outputs": [],
   "source": [
    "%%capture\n",
    "%%bash\n",
    "cd svhn_data\n",
    "# Unzip the train and test data\n",
    "tar -xvf train.tar.gz\n",
    "tar -xvf test.tar.gz"
   ]
  },
  {
   "cell_type": "code",
   "execution_count": 1,
   "metadata": {
    "scrolled": true
   },
   "outputs": [
    {
     "name": "stderr",
     "output_type": "stream",
     "text": [
      "Processing test dataset: 100% |#################################| Time: 0:03:31\n",
      "Processing train dataset: 100% |################################| Time: 0:08:59\n"
     ]
    }
   ],
   "source": [
    "import pathlib, glob\n",
    "from progressbar import ProgressBar, Percentage, Bar, ETA\n",
    "\n",
    "def loadimgs(imglist):\n",
    "    _list = []\n",
    "    # Use a bit of terminal commands for faster processing\n",
    "    for pimage in pbar(imglist):\n",
    "        w = !file {pimage} | cut -f 2 -d ',' | cut -f 1 -d 'x'\n",
    "        w = int(w[0])\n",
    "        h = !file {pimage} | cut -f 2 -d ',' | cut -f 2 -d 'x'\n",
    "        h = int(h[0])\n",
    "        if h>80 and w>40:\n",
    "            _list.append(pimage)\n",
    "        \n",
    "    return _list\n",
    "\n",
    "trainfldr = pathlib.Path(\"svhn_data/train\")\n",
    "testfldr = pathlib.Path(\"svhn_data/test\")\n",
    "\n",
    "testimgs = glob.glob(f\"{testfldr}/*.png\")\n",
    "trainimgs = glob.glob(f\"{trainfldr}/*.png\")\n",
    "\n",
    "widgets = ['Processing test dataset: ', Percentage(), ' ', Bar(), ' ', ETA()]\n",
    "pbar = ProgressBar(widgets=widgets, maxval=1e4).start()    \n",
    "testimgpaths = loadimgs(testimgs)\n",
    "\n",
    "widgets = ['Processing train dataset: ', Percentage(), ' ', Bar(), ' ', ETA()]\n",
    "pbar = ProgressBar(widgets=widgets, maxval=1e4).start()    \n",
    "trainimgpaths = loadimgs(trainimgs)"
   ]
  },
  {
   "cell_type": "code",
   "execution_count": 2,
   "metadata": {},
   "outputs": [],
   "source": [
    "# Lets sort them with numerically\n",
    "import os\n",
    "\n",
    "def sortkey(strr):\n",
    "    name = os.path.basename(strr)\n",
    "    return int(name.split(\".\")[0])\n",
    "\n",
    "testimgpaths = sorted(testimgpaths, key=sortkey)\n",
    "trainimgpaths = sorted(trainimgpaths, key=sortkey)"
   ]
  },
  {
   "cell_type": "markdown",
   "metadata": {},
   "source": [
    "## Now crop out the digits from images"
   ]
  },
  {
   "cell_type": "code",
   "execution_count": 4,
   "metadata": {
    "scrolled": true
   },
   "outputs": [
    {
     "name": "stderr",
     "output_type": "stream",
     "text": [
      "Processing test dataset:  95% |###############################  | ETA:  0:00:42\r"
     ]
    },
    {
     "name": "stdout",
     "output_type": "stream",
     "text": [
      "Reported err: OpenCV(4.7.0) /io/opencv/modules/imgcodecs/src/loadsave.cpp:783: error: (-215:Assertion failed) !_img.empty() in function 'imwrite'\n",
      "\n",
      "dinfo: ['test/12434.png', '-3', '181', '33', '60', '8', '23', '177', '40', '60', '7']\n",
      "tried to save to: svhn_data/test/prepared/8/7001.png\n"
     ]
    },
    {
     "name": "stderr",
     "output_type": "stream",
     "text": [
      "Processing test dataset: 100% |#################################| Time: 0:14:14\n",
      "Processing train dataset: 100% |################################| Time: 0:28:27\n"
     ]
    }
   ],
   "source": [
    "# The numbers frames are within the csv files\n",
    "import numpy as np\n",
    "import cv2\n",
    "\n",
    "# To keep track of all the images \n",
    "_imgidx = 0\n",
    "def crop_and_save(dinfo, img,\n",
    "                  pathprefix=\"\"):\n",
    "    \"\"\"\n",
    "    Crop the images by processing `args` to detect where the numbers within the image are and \n",
    "    saves to the corresponding folder for the given class set by `pathprefix`.\n",
    "    \n",
    "    Parameters:\n",
    "    -----------\n",
    "    \n",
    "    dinfo     : List containing the information on location of digits within the\n",
    "                image, x_n, y_n, w_n, h_n, label_n, ..., with `n` denoting the nth image\n",
    "    \n",
    "    img       : The ndarray image containing the image from which digits are to be cropped\n",
    "    \"\"\"\n",
    "        \n",
    "    global _imgidx\n",
    "    # Readng in steps of 5\n",
    "    _range = len(dinfo)\n",
    "    for i in range(1,_range,5):\n",
    "        x,y,w,h,digit = np.asarray(dinfo[i:i+5],dtype=int)\n",
    "        # It seems there are some cases where I get -1 for x_1??\n",
    "        if x==-1:\n",
    "            x=0\n",
    "        cropped = img[y:y+h,x:x+w]\n",
    "        path_cropped = f'{pathprefix}/{digit}/'\n",
    "        # If the folder doesn't already exist create it\n",
    "        !mkdir -p {path_cropped}\n",
    "        try:\n",
    "            cv2.imwrite(f\"{path_cropped}{_imgidx}.png\", cropped)\n",
    "        except Exception as err:\n",
    "            print(f\"Reported err: {err}\")\n",
    "            print(f\"dinfo: {dinfo}\")\n",
    "            print(f\"tried to save to: {path_cropped}{_imgidx}.png\")            \n",
    "            \n",
    "        _imgidx+=1\n",
    "\n",
    "def process(fcsv, imgs,\n",
    "            prefix=\"\"):\n",
    "    \n",
    "    \"\"\"\n",
    "    Go through all the images, crop and save the corresponding digits\n",
    "    \n",
    "    Parameters:\n",
    "    -----------\n",
    "    \n",
    "    fcsv      : A list of lines containing information on each image, where the\n",
    "                the digit frames are, and what digits are there\n",
    "    \n",
    "    imgs      : List of SVHN images to look at\n",
    "    \n",
    "    prefix    : Prefix for the path where to save images\n",
    "    \"\"\"\n",
    "    \n",
    "    for img in pbar(imgs):\n",
    "        # Get the index of the line within fcsv (from the {idx}.png convention)\n",
    "        idx = int(os.path.basename(img).split('.png')[0])\n",
    "        dinfo = fcsv[idx].split(',')\n",
    "        _img = cv2.imread(img)\n",
    "        crop_and_save(dinfo, _img, pathprefix=f\"svhn_data/{prefix}/prepared\")\n",
    "    \n",
    "testcsv = pathlib.Path(\"svhn_data/paperclub/01-SVHN/test_annotations.csv\")\n",
    "traincsv = pathlib.Path(\"svhn_data/paperclub/01-SVHN/train_annotations.csv\")\n",
    "\n",
    "f_testcsv = np.loadtxt(testcsv, dtype=object)\n",
    "f_traincsv = np.loadtxt(traincsv, dtype=object)\n",
    "\n",
    "widgets = ['Processing test dataset: ', Percentage(), ' ', Bar(), ' ', ETA()]\n",
    "pbar = ProgressBar(widgets=widgets, maxval=1e4).start()    \n",
    "process(f_testcsv, testimgpaths, prefix=\"test\")\n",
    "\n",
    "widgets = ['Processing train dataset: ', Percentage(), ' ', Bar(), ' ', ETA()]\n",
    "pbar = ProgressBar(widgets=widgets, maxval=1e4).start()    \n",
    "process(f_traincsv, trainimgpaths, prefix=\"train\")"
   ]
  },
  {
   "cell_type": "code",
   "execution_count": 5,
   "metadata": {},
   "outputs": [],
   "source": [
    "# It seems 10 corresponds to zero, so lets rename those folders\n",
    "!mv \"svhn_data/train/prepared/10\" \"svhn_data/train/prepared/0\"\n",
    "!mv \"svhn_data/test/prepared/10\" \"svhn_data/test/prepared/0\""
   ]
  }
 ],
 "metadata": {
  "kernelspec": {
   "display_name": "Python 3",
   "language": "python",
   "name": "python3"
  },
  "language_info": {
   "codemirror_mode": {
    "name": "ipython",
    "version": 3
   },
   "file_extension": ".py",
   "mimetype": "text/x-python",
   "name": "python",
   "nbconvert_exporter": "python",
   "pygments_lexer": "ipython3",
   "version": "3.8.10"
  }
 },
 "nbformat": 4,
 "nbformat_minor": 4
}
